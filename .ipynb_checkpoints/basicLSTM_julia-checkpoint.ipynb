{
 "cells": [
  {
   "cell_type": "code",
   "execution_count": 305,
   "metadata": {},
   "outputs": [],
   "source": [
    "using Flux\n",
    "using Flux: onehot, chunk, batchseq, throttle, crossentropy\n",
    "using StatsBase: wsample\n",
    "using Base.Iterators: partition\n",
    "using CSV\n",
    "using MultivariateStats\n",
    "using LinearAlgebra"
   ]
  },
  {
   "cell_type": "code",
   "execution_count": 4,
   "metadata": {},
   "outputs": [],
   "source": [
    "BIN_STEP = 100;"
   ]
  },
  {
   "cell_type": "code",
   "execution_count": 55,
   "metadata": {},
   "outputs": [
    {
     "data": {
      "text/plain": [
       "add_dim (generic function with 2 methods)"
      ]
     },
     "execution_count": 55,
     "metadata": {},
     "output_type": "execute_result"
    }
   ],
   "source": [
    "add_dim(x::Array,dim) = reshape(x, (size(x)...,1))"
   ]
  },
  {
   "cell_type": "code",
   "execution_count": 148,
   "metadata": {},
   "outputs": [
    {
     "data": {
      "text/plain": [
       "prctile (generic function with 1 method)"
      ]
     },
     "execution_count": 148,
     "metadata": {},
     "output_type": "execute_result"
    }
   ],
   "source": [
    "prctile(x::Array,p) = sort(x)[Int(round((p/100)*length(x)))]"
   ]
  },
  {
   "cell_type": "code",
   "execution_count": null,
   "metadata": {},
   "outputs": [],
   "source": [
    "text = CSV.read(\"processed_data.csv\", header=0);\n",
    "text = convert(Array, text);\n",
    "timepts = text[:,1];\n",
    "heel_strike = [findall(text[:,8].==1), findall(text[:,end-1].==1)];\n",
    "startPF = [findall(text[:,8].==2), findall(text[:,end-1].==2)];\n",
    "PFend = [findall(text[:,8].==3), findall(text[:,end-1].==3)];\n",
    "labels = text[:,end];\n",
    "data = text[:,[2,3,4,5,6,7,9,10,11,12,13,14]];\n",
    "\n",
    "data = reshape(data,(size(data,1)*2,6))\n",
    "heel_strike = vcat(heel_strike[1],heel_strike[2].+length(timepts))\n",
    "startPF = vcat(startPF[1], startPF[2].+length(timepts))\n",
    "PFend = vcat(PFend[1], PFend[2].+length(timepts))\n",
    "\n",
    "SOS = 1.1;\n",
    "EOS = 99.9;\n",
    "\n",
    "mins = [minimum(data[:,col]) for col in range(1,size(data,2))];\n",
    "mins = reshape(mins,(1,6));"
   ]
  },
  {
   "cell_type": "code",
   "execution_count": 302,
   "metadata": {},
   "outputs": [],
   "source": [
    "data_PCA = data .- mins\n",
    "# Try PCA\n",
    "M = fit(PCA, data_PCA, maxoutdim = 10);\n",
    "projMat = projection(M);\n",
    "component1 = projMat[:,1];"
   ]
  },
  {
   "cell_type": "code",
   "execution_count": 307,
   "metadata": {},
   "outputs": [
    {
     "name": "stdout",
     "output_type": "stream",
     "text": [
      "[9.68121e6, 5184.14, 4845.26, 3782.71, 3715.36, 3459.51]\n"
     ]
    }
   ],
   "source": [
    "U,S,V = svd(data_PCA);\n",
    "println(S)"
   ]
  },
  {
   "cell_type": "code",
   "execution_count": 296,
   "metadata": {},
   "outputs": [],
   "source": [
    "data = round.((data .- mins)./BIN_STEP) .+ 1;\n",
    "\n",
    "st_idx = 1;\n",
    "seqlens = [];\n",
    "data_old = Array{Float64}(undef, 0, 6)\n",
    "data_stride = [];\n",
    "\n",
    "alphabet = unique(data);\n",
    "append!(alphabet, [SOS EOS])\n",
    "# data_a = map(ch -> onehot(ch, alphabet), data);\n",
    "# stop_idx = onehot(\"S\", alphabet);\n",
    "\n",
    "for i in 1:length(startPF)\n",
    "    global data_n\n",
    "    data_n = data[st_idx:startPF[i],:]\n",
    "    \n",
    "    data_n=vcat(data_n, reshape(repeat([SOS],(6)),(1,6)))\n",
    "    data_n = vcat(data_n, data[startPF[i]+1:PFend[i],:])\n",
    "    data_n=vcat(data_n, reshape(repeat([EOS],(6)),(1,6)))\n",
    "    data_n = [data_old; data_n]\n",
    "    data_old = copy(data_n)\n",
    "    st_idx = PFend[i] +1\n",
    "    data_add = \n",
    "    if i > 1\n",
    "        data_add = data_n[startPF[i-1]:startPF[i],:];\n",
    "        data_add = map(ch -> onehot(ch, alphabet), data_add);\n",
    "        append!(seqlens, length(startPF[i-1]:startPF[i]))\n",
    "        append!(data_stride, [data_add])\n",
    "    end\n",
    "end\n",
    "\n",
    "alphabet = unique(data_n);\n",
    "data_a = map(ch -> onehot(ch, alphabet), data_n);\n",
    "stop_idx = onehot(1.1, alphabet);"
   ]
  },
  {
   "cell_type": "code",
   "execution_count": 281,
   "metadata": {},
   "outputs": [
    {
     "ename": "BoundsError",
     "evalue": "BoundsError: attempt to access 0-element Array{Any,1} at index [0]",
     "output_type": "error",
     "traceback": [
      "BoundsError: attempt to access 0-element Array{Any,1} at index [0]",
      "",
      "Stacktrace:",
      " [1] getindex at ./array.jl:731 [inlined]",
      " [2] prctile(::Array{Any,1}, ::Int64) at ./In[148]:1",
      " [3] top-level scope at In[281]:2"
     ]
    }
   ],
   "source": [
    "N = length(alphabet);\n",
    "seqlen = prctile(seqlens,75);\n",
    "nbatch = 50;\n",
    "\n",
    "# Xs = convert(Array,[chunk(data_a[:,i],nbatch) for i in range(1,6)])\n",
    "# Ys = convert(Array,[chunk(data_a[2:end,:],nbatch) for i in range(1,6)])\n",
    "Xs0 = collect(partition(batchseq(chunk(reshape(data_a[:,1],(1,length(data_a[:,1]))), nbatch), stop_idx), seqlen));\n",
    "Ys0 = collect(partition(batchseq(chunk(reshape(data_a[2:end,1],(1,length(data_a[2:end,1]))), nbatch), stop_idx), seqlen));\n",
    "# Ys = collect(partition(batchseq(chunk(data_a[2:end,:], nbatch), stop_idx), seqlen));"
   ]
  },
  {
   "cell_type": "code",
   "execution_count": 274,
   "metadata": {},
   "outputs": [
    {
     "name": "stdout",
     "output_type": "stream",
     "text": [
      "(6,)\n",
      "(50,)\n",
      "(429,)\n",
      "(466,)\n"
     ]
    }
   ],
   "source": [
    "println(size(Xs))\n",
    "println(size(Xs[1]))\n",
    "println(size(Xs[1][1]))\n",
    "println(size(Xs[1][1][1]))"
   ]
  },
  {
   "cell_type": "code",
   "execution_count": 277,
   "metadata": {},
   "outputs": [
    {
     "name": "stderr",
     "output_type": "stream",
     "text": [
      "┌ Info: Epoch 1\n",
      "└ @ Main /Users/jenniferdawkins/.julia/packages/Flux/oN61x/src/optimise/train.jl:93\n"
     ]
    },
    {
     "name": "stdout",
     "output_type": "stream",
     "text": [
      "loss(tx, ty) = 540.7314173709163 (tracked)\n"
     ]
    },
    {
     "name": "stderr",
     "output_type": "stream",
     "text": [
      "┌ Info: Epoch 2\n",
      "└ @ Main /Users/jenniferdawkins/.julia/packages/Flux/oN61x/src/optimise/train.jl:93\n"
     ]
    },
    {
     "name": "stdout",
     "output_type": "stream",
     "text": [
      "loss(tx, ty) = 454.1740441148077 (tracked)\n"
     ]
    },
    {
     "name": "stderr",
     "output_type": "stream",
     "text": [
      "┌ Info: Epoch 3\n",
      "└ @ Main /Users/jenniferdawkins/.julia/packages/Flux/oN61x/src/optimise/train.jl:93\n"
     ]
    },
    {
     "name": "stdout",
     "output_type": "stream",
     "text": [
      "loss(tx, ty) = 450.790203733033 (tracked)\n"
     ]
    },
    {
     "name": "stderr",
     "output_type": "stream",
     "text": [
      "┌ Info: Epoch 4\n",
      "└ @ Main /Users/jenniferdawkins/.julia/packages/Flux/oN61x/src/optimise/train.jl:93\n"
     ]
    },
    {
     "name": "stdout",
     "output_type": "stream",
     "text": [
      "loss(tx, ty) = 447.943118090601 (tracked)\n"
     ]
    },
    {
     "ename": "InterruptException",
     "evalue": "InterruptException:",
     "output_type": "error",
     "traceback": [
      "InterruptException:",
      "",
      "Stacktrace:",
      " [1] #train!#121(::getfield(Flux, Symbol(\"#throttled#18\")){getfield(Flux, Symbol(\"##throttled#10#14\")){Bool,Bool,getfield(Main, Symbol(\"##229#230\")),Int64}}, ::Function, ::Function, ::Base.Iterators.Zip2{Array{Array{Flux.OneHotMatrix{Array{Flux.OneHotVector,1}},1},1},Array{Array{Flux.OneHotMatrix{Array{Flux.OneHotVector,1}},1},1}}, ::getfield(Flux.Optimise, Symbol(\"##43#47\"))) at /Users/jenniferdawkins/.julia/packages/Juno/46C8i/src/progress.jl:113",
      " [2] (::getfield(Flux.Optimise, Symbol(\"#kw##train!\")))(::NamedTuple{(:cb,),Tuple{getfield(Flux, Symbol(\"#throttled#18\")){getfield(Flux, Symbol(\"##throttled#10#14\")){Bool,Bool,getfield(Main, Symbol(\"##229#230\")),Int64}}}}, ::typeof(Flux.Optimise.train!), ::Function, ::Base.Iterators.Zip2{Array{Array{Flux.OneHotMatrix{Array{Flux.OneHotVector,1}},1},1},Array{Array{Flux.OneHotMatrix{Array{Flux.OneHotVector,1}},1},1}}, ::Function) at ./none:0",
      " [3] top-level scope at /Users/jenniferdawkins/.julia/packages/Juno/46C8i/src/progress.jl:109"
     ]
    }
   ],
   "source": [
    "using Flux: @epochs\n",
    "\n",
    "m = Chain(\n",
    "#   Conv((3,1), 6=>1, relu),\n",
    "#   x -> maxpool(x, (3,1)),\n",
    "  LSTM(N, 128),\n",
    "  LSTM(128, 128),\n",
    "  Dense(128, N),\n",
    "  softmax)\n",
    "\n",
    "m = gpu(m)\n",
    "\n",
    "function loss(xs, ys)\n",
    "  l = sum(crossentropy.(m.(gpu.(xs)), gpu.(ys)))\n",
    "  Flux.truncate!(m)\n",
    "  return l\n",
    "end\n",
    "\n",
    "opt = ADAM(params(m), 0.01)\n",
    "tx, ty = (gpu.(Xs0[3]), gpu.(Ys0[3]))\n",
    "evalcb = () -> @show loss(tx, ty)\n",
    "\n",
    "@epochs 450 Flux.train!(loss, zip(Xs0, Ys0), opt,\n",
    "            cb = throttle(evalcb, 2))\n",
    "\n",
    "# Sampling\n",
    "m = cpu(m)\n",
    "using BSON: @save\n",
    "weights = Tracker.data.(params(m));\n",
    "@save \"basicLSTM_450epochs.bson\" weights\n",
    "\n",
    "function sample(m, alphabet, len; temp = 1)\n",
    "  Flux.reset!(m)\n",
    "  buf = []\n",
    "  c = rand(alphabet)\n",
    "  for i = 1:len\n",
    "    append!(buf,c)\n",
    "    c = wsample(alphabet, m(onehot(c, alphabet)).data)\n",
    "  end\n",
    "  return buf\n",
    "end\n",
    "\n",
    "buffer = sample(m, alphabet, 1000) |> println"
   ]
  },
  {
   "cell_type": "code",
   "execution_count": 278,
   "metadata": {},
   "outputs": [],
   "source": [
    "m = cpu(m)\n",
    "using BSON: @save\n",
    "weights = Tracker.data.(params(m));\n",
    "@save \"basicLSTM_1000epochs.bson\" weights"
   ]
  },
  {
   "cell_type": "code",
   "execution_count": 270,
   "metadata": {},
   "outputs": [
    {
     "name": "stdout",
     "output_type": "stream",
     "text": [
      "Any[55.0, 175.0, 180.0, 291.0, 318.0, 324.0, 311.0, 318.0, 318.0, 317.0, 253.0, 313.0, 314.0, 314.0, 315.0, 'S', 'T', 'A', 'R', 'T', 'S', 'T', 'A', 'R', 'T', 315.0, 312.0, 316.0, 317.0, 319.0, 322.0, 337.0, 341.0, 351.0, 361.0, 371.0, 379.0, 359.0, 355.0, 351.0, 346.0, 351.0, 346.0, 346.0, 341.0, 338.0, 335.0, 337.0, 337.0, 335.0, 323.0, 322.0, 320.0, 314.0, 321.0, 323.0, 325.0, 329.0, 330.0, 333.0, 334.0, 336.0, 336.0, 333.0, 333.0, 333.0, 331.0, 330.0, 327.0, 322.0, 318.0, 311.0, 308.0, 305.0, 305.0, 306.0, 310.0, 314.0, 317.0, 322.0, 324.0, 325.0, 325.0, 325.0, 324.0, 323.0, 321.0, 319.0, 318.0, 317.0, 317.0, 317.0, 316.0, 314.0, 315.0, 316.0, 317.0, 318.0, 320.0, 320.0, 319.0, 320.0, 320.0, 320.0, 319.0, 318.0, 317.0, 316.0, 317.0, 317.0, 318.0, 319.0, 319.0, 321.0, 320.0, 319.0, 320.0, 317.0, 317.0, 317.0, 314.0, 313.0, 309.0, 308.0, 313.0, 251.0, 308.0, 314.0, 314.0, 314.0, 340.0, 'S', 'T', 'A', 'R', 'T', 349.0, 357.0, 358.0, 358.0, 354.0, 350.0, 343.0, 339.0, 334.0, 328.0, 327.0, 326.0, 326.0, 326.0, 327.0, 330.0, 332.0, 330.0, 328.0, 325.0, 'E', 'N', 'D', 329.0, 333.0, 337.0, 345.0, 349.0, 349.0, 343.0, 342.0, 335.0, 332.0, 329.0, 328.0, 327.0, 329.0, 331.0, 334.0, 334.0, 336.0, 337.0, 338.0, 339.0, 346.0, 347.0, 355.0, 351.0, 350.0, 349.0, 342.0, 333.0, 331.0, 320.0, 303.0, 292.0, 292.0, 299.0, 284.0, 270.0, 278.0, 290.0, 308.0, 309.0, 311.0, 322.0, 252.0, 313.0, 317.0, 317.0, 317.0, 322.0, 323.0, 326.0, 326.0, 326.0, 326.0, 326.0, 324.0, 322.0, 322.0, 321.0, 320.0, 320.0, 323.0, 327.0, 331.0, 332.0, 332.0, 331.0, 332.0, 335.0, 338.0, 342.0, 344.0, 343.0, 340.0, 334.0, 332.0, 335.0, 339.0, 343.0, 343.0, 344.0, 345.0, 345.0, 342.0, 339.0, 334.0, 331.0, 'E', 'N', 'D', 327.0, 324.0, 323.0, 327.0, 329.0, 331.0, 334.0, 337.0, 338.0, 337.0, 335.0, 334.0, 332.0, 333.0, 331.0, 330.0, 332.0, 335.0, 338.0, 346.0, 346.0, 344.0, 342.0, 339.0, 334.0, 331.0, 328.0, 326.0, 317.0, 311.0, 310.0, 312.0, 312.0, 313.0, 315.0, 315.0, 316.0, 330.0, 332.0, 335.0, 340.0, 346.0, 346.0, 346.0, 346.0, 344.0, 341.0, 338.0, 331.0, 327.0, 318.0, 299.0, 299.0, 305.0, 296.0, 304.0, 312.0, 313.0, 308.0, 308.0, 310.0, 316.0, 318.0, 317.0, 317.0, 320.0, 321.0, 323.0, 326.0, 328.0, 334.0, 335.0, 339.0, 343.0, 344.0, 339.0, 334.0, 332.0, 335.0, 335.0, 334.0, 336.0, 337.0, 339.0, 339.0, 339.0, 335.0, 333.0, 331.0, 329.0, 326.0, 329.0, 331.0, 332.0, 334.0, 336.0, 339.0, 339.0, 339.0, 337.0, 334.0, 331.0, 329.0, 325.0, 326.0, 328.0, 329.0, 332.0, 339.0, 346.0, 344.0, 341.0, 338.0, 339.0, 336.0, 329.0, 317.0, 299.0, 304.0, 300.0, 301.0, 300.0, 337.0, 330.0, 329.0, 326.0, 327.0, 341.0, 346.0, 353.0, 354.0, 351.0, 357.0, 361.0, 354.0, 348.0, 343.0, 339.0, 339.0, 335.0, 331.0, 326.0, 327.0, 334.0, 340.0, 340.0, 341.0, 342.0, 344.0, 343.0, 341.0, 339.0, 334.0, 329.0, 319.0, 307.0, 299.0, 297.0, 307.0, 303.0, 306.0, 311.0, 315.0, 316.0, 322.0, 325.0, 329.0, 331.0, 333.0, 336.0, 338.0, 338.0, 338.0, 338.0, 337.0, 'S', 'T', 'A', 'R', 'T', 335.0, 333.0, 334.0, 331.0, 329.0, 327.0, 325.0, 323.0, 323.0, 325.0, 325.0, 326.0, 329.0, 331.0, 333.0, 335.0, 335.0, 335.0, 336.0, 334.0, 331.0, 329.0, 327.0, 327.0, 326.0, 329.0, 334.0, 337.0, 336.0, 334.0, 330.0, 328.0, 331.0, 335.0, 341.0, 346.0, 357.0, 215.0, 306.0, 318.0, 317.0, 315.0, 345.0, 345.0, 330.0, 332.0, 334.0, 330.0, 329.0, 328.0, 324.0, 321.0, 316.0, 313.0, 315.0, 317.0, 317.0, 321.0, 323.0, 328.0, 335.0, 340.0, 337.0, 341.0, 342.0, 342.0, 338.0, 339.0, 342.0, 344.0, 347.0, 316.0, 317.0, 322.0, 333.0, 343.0, 351.0, 382.0, 380.0, 367.0, 280.0, 280.0, 285.0, 308.0, 312.0, 307.0, 301.0, 299.0, 313.0, 313.0, 315.0, 316.0, 318.0, 323.0, 325.0, 327.0, 329.0, 329.0, 329.0, 329.0, 329.0, 330.0, 330.0, 330.0, 330.0, 330.0, 330.0, 329.0, 328.0, 330.0, 336.0, 340.0, 341.0, 346.0, 347.0, 350.0, 350.0, 347.0, 343.0, 342.0, 339.0, 333.0, 323.0, 319.0, 308.0, 300.0, 289.0, 302.0, 309.0, 316.0, 322.0, 329.0, 345.0, 361.0, 382.0, 379.0, 387.0, 386.0, 365.0, 364.0, 357.0, 348.0, 349.0, 351.0, 346.0, 341.0, 'S', 'T', 'A', 'R', 'T', 344.0, 342.0, 338.0, 334.0, 328.0, 326.0, 325.0, 326.0, 328.0, 331.0, 334.0, 337.0, 'S', 'T', 'A', 'R', 'T', 344.0, 345.0, 344.0, 340.0, 339.0, 336.0, 332.0, 326.0, 326.0, 321.0, 316.0, 307.0, 301.0, 322.0, 333.0, 338.0, 349.0, 345.0, 342.0, 339.0, 337.0, 335.0, 334.0, 332.0, 329.0, 329.0, 331.0, 334.0, 336.0, 337.0, 337.0, 336.0, 339.0, 339.0, 340.0, 343.0, 344.0, 342.0, 341.0, 339.0, 339.0, 333.0, 332.0, 332.0, 334.0, 338.0, 339.0, 339.0, 339.0, 336.0, 333.0, 325.0, 319.0, 319.0, 313.0, 298.0, 286.0, 298.0, 310.0, 314.0, 327.0, 315.0, 318.0, 313.0, 313.0, 315.0, 319.0, 323.0, 327.0, 328.0, 332.0, 333.0, 331.0, 330.0, 326.0, 323.0, 319.0, 318.0, 318.0, 317.0, 316.0, 314.0, 315.0, 314.0, 315.0, 317.0, 319.0, 320.0, 320.0, 320.0, 322.0, 323.0, 323.0, 322.0, 322.0, 321.0, 319.0, 317.0, 317.0, 317.0, 317.0, 318.0, 318.0, 318.0, 319.0, 320.0, 320.0, 320.0, 320.0, 321.0, 322.0, 321.0, 321.0, 318.0, 317.0, 317.0, 317.0, 317.0, 319.0, 319.0, 319.0, 319.0, 320.0, 320.0, 321.0, 322.0, 321.0, 320.0, 321.0, 322.0, 322.0, 322.0, 322.0, 322.0, 323.0, 327.0, 327.0, 327.0, 327.0, 329.0, 330.0, 331.0, 332.0, 333.0, 332.0, 331.0, 331.0, 332.0, 334.0, 334.0, 336.0, 340.0, 343.0, 346.0, 346.0, 344.0, 340.0, 335.0, 335.0, 335.0, 339.0, 343.0, 346.0, 330.0, 323.0, 297.0, 299.0, 330.0, 337.0, 327.0, 317.0, 326.0, 333.0, 343.0, 346.0, 363.0, 380.0, 371.0, 373.0, 387.0, 359.0, 344.0, 328.0, 319.0, 312.0, 318.0, 326.0, 334.0, 346.0, 344.0, 345.0, 346.0, 347.0, 358.0, 348.0, 341.0, 343.0, 342.0, 337.0, 335.0, 303.0, 283.0, 271.0, 268.0, 269.0, 304.0, 305.0, 322.0, 309.0, 306.0, 306.0, 351.0, 358.0, 354.0, 353.0, 353.0, 348.0, 346.0, 346.0, 342.0, 340.0, 340.0, 337.0, 334.0, 328.0, 328.0, 330.0, 329.0, 331.0, 335.0, 339.0, 337.0, 334.0, 332.0, 330.0, 328.0, 325.0, 321.0, 318.0, 316.0, 316.0, 312.0, 314.0, 315.0, 317.0, 317.0, 317.0, 320.0, 323.0, 325.0, 325.0, 326.0, 326.0, 326.0, 326.0, 327.0, 328.0, 329.0, 328.0, 326.0, 325.0, 325.0, 324.0, 323.0, 323.0, 322.0, 320.0, 318.0, 319.0, 320.0, 321.0, 322.0, 323.0, 327.0, 329.0, 329.0, 329.0, 327.0, 327.0, 328.0, 330.0, 329.0, 330.0, 332.0, 336.0, 341.0, 347.0, 352.0, 353.0, 350.0, 346.0, 345.0, 344.0, 343.0, 338.0, 332.0, 325.0, 319.0, 309.0, 301.0, 293.0, 290.0, 289.0, 293.0, 295.0, 308.0, 329.0, 344.0, 354.0, 355.0, 354.0, 354.0, 354.0, 353.0, 349.0, 344.0, 339.0, 336.0, 335.0, 335.0, 332.0, 332.0, 330.0, 326.0, 323.0, 'S', 'T', 'A', 'R', 'T', 322.0, 322.0, 322.0, 321.0, 329.0, 330.0, 333.0, 338.0, 341.0, 343.0, 343.0, 343.0, 343.0, 342.0, 342.0, 341.0, 343.0, 344.0, 345.0, 346.0, 346.0, 345.0, 343.0, 341.0, 342.0, 341.0, 340.0, 340.0, 338.0, 337.0, 339.0, 346.0, 354.0, 357.0, 329.0, 323.0, 332.0, 315.0, 314.0, 320.0, 337.0, 348.0, 341.0, 328.0, 325.0, 331.0, 331.0, 327.0, 325.0, 326.0, 327.0, 326.0, 324.0, 322.0, 320.0, 318.0, 'E', 'N', 'D', 317.0, 317.0, 317.0, 318.0, 318.0, 319.0, 321.0, 322.0, 323.0, 324.0, 324.0, 324.0, 325.0, 324.0, 322.0, 321.0, 320.0, 320.0, 319.0, 317.0, 317.0, 320.0, 323.0, 320.0, 318.0, 319.0, 322.0, 322.0, 321.0, 322.0, 325.0, 327.0, 327.0, 328.0, 329.0, 329.0, 330.0, 331.0, 331.0, 331.0, 331.0, 332.0, 335.0, 336.0, 336.0, 336.0, 338.0, 338.0]\n"
     ]
    }
   ],
   "source": [
    "function sample(m, alphabet, len; temp = 1)\n",
    "  Flux.reset!(m)\n",
    "  buf = []\n",
    "  c = rand(alphabet)\n",
    "  for i = 1:len\n",
    "    append!(buf,c)\n",
    "    c = wsample(alphabet, m(onehot(c, alphabet)).data)\n",
    "  end\n",
    "  return buf\n",
    "end\n",
    "\n",
    "sample(m, alphabet, 1000) |> println"
   ]
  },
  {
   "cell_type": "code",
   "execution_count": null,
   "metadata": {},
   "outputs": [],
   "source": []
  }
 ],
 "metadata": {
  "kernelspec": {
   "display_name": "Julia 1.0.0",
   "language": "julia",
   "name": "julia-1.0"
  },
  "language_info": {
   "file_extension": ".jl",
   "mimetype": "application/julia",
   "name": "julia",
   "version": "1.0.2"
  }
 },
 "nbformat": 4,
 "nbformat_minor": 2
}
